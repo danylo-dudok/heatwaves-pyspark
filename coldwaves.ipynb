{
 "cells": [
  {
   "cell_type": "code",
   "execution_count": 10,
   "metadata": {},
   "outputs": [],
   "source": [
    "import sys\n",
    "sys.path.append(\"./work\")"
   ]
  },
  {
   "cell_type": "code",
   "execution_count": 11,
   "metadata": {},
   "outputs": [],
   "source": [
    "raw_data_path = \"./work/data/knmi.parquet\"\n",
    "output_directory_path = \"./work/output/\"\n",
    "considered_cities = [\"De Bilt\"]\n",
    "start_date = \"2003-01-01\""
   ]
  },
  {
   "cell_type": "code",
   "execution_count": 12,
   "metadata": {},
   "outputs": [],
   "source": [
    "from pyspark.sql import SparkSession"
   ]
  },
  {
   "cell_type": "code",
   "execution_count": 13,
   "metadata": {},
   "outputs": [],
   "source": [
    "spark = SparkSession.builder.appName(\"ColdwaveAnalysis\").getOrCreate()"
   ]
  },
  {
   "cell_type": "code",
   "execution_count": 14,
   "metadata": {},
   "outputs": [],
   "source": [
    "df = spark.read.parquet(raw_data_path, header=True, inferSchema=True)"
   ]
  },
  {
   "cell_type": "code",
   "execution_count": 15,
   "metadata": {},
   "outputs": [],
   "source": [
    "import src.common as c\n",
    "import src.coldwaves as cold\n",
    "\n",
    "\n",
    "df = c.filter_needed_data(df, considered_cities, start_date)\n",
    "df = c.clean_data(df)\n",
    "df = c.with_date(df)\n",
    "df = c.aggregate_daily(df)\n",
    "df = cold.with_minimum_flags(df)\n",
    "df = cold.filter_wave_candidates(df)\n",
    "df = c.with_prev_date(df)\n",
    "df = c.with_date_diff(df)\n",
    "df = c.with_group(df)\n",
    "df = cold.group_metrics(df)\n",
    "df = cold.filter_heatwaves(df)"
   ]
  },
  {
   "cell_type": "code",
   "execution_count": 16,
   "metadata": {},
   "outputs": [],
   "source": [
    "from pyspark.sql import functions as F\n",
    "\n",
    "\n",
    "(df\n",
    " .select(\n",
    "    F.col(\"FROM_DATE\"),\n",
    "    F.col(\"TO_DATE\"),\n",
    "    F.col(\"DURATION\"),\n",
    "    F.col(\"HIGH_FROST_DAYS\"),\n",
    "    F.col(\"MIN_TEMPERATURE\"),\n",
    ")\n",
    "    .orderBy(F.col(\"FROM_DATE\"))\n",
    "    .coalesce(1)\n",
    "    .write\n",
    "    .option(\"header\", \"true\")\n",
    "    .csv(output_directory_path + \"coldwaves.csv\")\n",
    ")"
   ]
  }
 ],
 "metadata": {
  "kernelspec": {
   "display_name": "Python 3 (ipykernel)",
   "language": "python",
   "name": "python3"
  }
 },
 "nbformat": 4,
 "nbformat_minor": 2
}
