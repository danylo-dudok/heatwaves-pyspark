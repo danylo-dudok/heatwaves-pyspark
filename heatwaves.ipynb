{
 "cells": [
  {
   "cell_type": "code",
   "execution_count": 1,
   "metadata": {},
   "outputs": [],
   "source": [
    "import sys\n",
    "sys.path.append(\"./work\")"
   ]
  },
  {
   "cell_type": "code",
   "execution_count": 2,
   "metadata": {},
   "outputs": [],
   "source": [
    "raw_data_path = \"./work/data/knmi.parquet\"\n",
    "output_directory_path = \"./work/output/\"\n",
    "considered_cities = [\"De Bilt\"]\n",
    "start_date = \"2003-01-01\""
   ]
  },
  {
   "cell_type": "code",
   "execution_count": 3,
   "metadata": {},
   "outputs": [],
   "source": [
    "from pyspark.sql import SparkSession"
   ]
  },
  {
   "cell_type": "code",
   "execution_count": 4,
   "metadata": {},
   "outputs": [],
   "source": [
    "spark = SparkSession.builder.appName(\"HeatwaveAnalysis\").getOrCreate()"
   ]
  },
  {
   "cell_type": "code",
   "execution_count": 5,
   "metadata": {},
   "outputs": [],
   "source": [
    "df = spark.read.parquet(raw_data_path, header=True, inferSchema=True)"
   ]
  },
  {
   "cell_type": "code",
   "execution_count": 6,
   "metadata": {},
   "outputs": [],
   "source": [
    "import src.common as c\n",
    "import src.heatwaves as heat\n",
    "\n",
    "\n",
    "df = c.filter_needed_data(df, considered_cities, start_date)\n",
    "df = c.clean_data(df)\n",
    "df = c.with_date(df)\n",
    "df = c.aggregate_daily(df)\n",
    "df = heat.with_maximum_flags(df)\n",
    "df = heat.filter_wave_candidates(df)\n",
    "df = c.with_prev_date(df)\n",
    "df = c.with_date_diff(df)\n",
    "df = c.with_group(df)\n",
    "df = heat.group_metrics(df)\n",
    "df = heat.filter_heatwaves(df)"
   ]
  },
  {
   "cell_type": "code",
   "execution_count": 7,
   "metadata": {},
   "outputs": [],
   "source": [
    "from pyspark.sql import functions as F\n",
    "\n",
    "\n",
    "(df\n",
    " .select(\n",
    "    F.col(\"FROM_DATE\"),\n",
    "    F.col(\"TO_DATE\"),\n",
    "    F.col(\"DURATION\"),\n",
    "    F.col(\"TROPICAL_DAYS\"),\n",
    "    F.col(\"MAX_TEMPERATURE\"),\n",
    ")\n",
    "    .orderBy(F.col(\"FROM_DATE\"))\n",
    "    .coalesce(1)\n",
    "    .write\n",
    "    .option(\"header\", \"true\")\n",
    "    .csv(output_directory_path + \"heatwaves.csv\")\n",
    ")"
   ]
  }
 ],
 "metadata": {
  "kernelspec": {
   "display_name": "Python 3 (ipykernel)",
   "language": "python",
   "name": "python3"
  },
  "language_info": {
   "codemirror_mode": {
    "name": "ipython",
    "version": 3
   },
   "file_extension": ".py",
   "mimetype": "text/x-python",
   "name": "python",
   "nbconvert_exporter": "python",
   "pygments_lexer": "ipython3",
   "version": "3.11.6"
  }
 },
 "nbformat": 4,
 "nbformat_minor": 2
}
